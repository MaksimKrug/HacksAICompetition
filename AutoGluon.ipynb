{
 "cells": [
  {
   "cell_type": "code",
   "execution_count": 1,
   "id": "9cf4b3fc",
   "metadata": {},
   "outputs": [],
   "source": [
    "import pandas as pd\n",
    "import seaborn as sns\n",
    "import matplotlib.pyplot as plt\n",
    "from sklearn.model_selection import train_test_split, KFold\n",
    "import numpy as np\n",
    "from sklearn.metrics import f1_score, confusion_matrix\n",
    "from tqdm.notebook import tqdm\n",
    "from scipy import stats\n",
    "\n",
    "from autogluon.tabular import TabularDataset, TabularPredictor\n",
    "\n",
    "from IPython.display import clear_output\n",
    "from sklearn.utils import class_weight\n",
    "\n",
    "from autogluon.features.generators import AutoMLPipelineFeatureGenerator\n",
    "\n",
    "\n",
    "from warnings import filterwarnings\n",
    "filterwarnings(\"ignore\")\n",
    "\n",
    "import pandas as pd\n",
    "pd.options.mode.chained_assignment = None  # default='warn'"
   ]
  },
  {
   "cell_type": "markdown",
   "id": "07165027",
   "metadata": {},
   "source": [
    "## Read data"
   ]
  },
  {
   "cell_type": "code",
   "execution_count": 2,
   "id": "659f4f9e",
   "metadata": {},
   "outputs": [
    {
     "data": {
      "text/plain": [
       "((13584, 24), (6691, 23), (6691, 2))"
      ]
     },
     "execution_count": 2,
     "metadata": {},
     "output_type": "execute_result"
    }
   ],
   "source": [
    "train = pd.read_csv(\"data/train_dataset_train.csv\")\n",
    "test = pd.read_csv(\"data/test_dataset_test.csv\")\n",
    "submission = pd.read_csv(\"data/sample_submission.csv\")\n",
    "\n",
    "train.shape, test.shape, submission.shape"
   ]
  },
  {
   "cell_type": "markdown",
   "id": "3cefa422",
   "metadata": {},
   "source": [
    "## Preprocessing"
   ]
  },
  {
   "cell_type": "code",
   "execution_count": 3,
   "id": "30d3ac57",
   "metadata": {},
   "outputs": [
    {
     "name": "stdout",
     "output_type": "stream",
     "text": [
      "(13584, 24) (6691, 23)\n"
     ]
    },
    {
     "name": "stderr",
     "output_type": "stream",
     "text": [
      "100%|████████████████████████████████████████████████████████████████████████████████████████████████████████████████████████████████████████████| 3011/3011 [00:16<00:00, 188.03it/s]\n",
      "100%|████████████████████████████████████████████████████████████████████████████████████████████████████████████████████████████████████████████| 2025/2025 [00:10<00:00, 201.43it/s]\n",
      "100%|████████████████████████████████████████████████████████████████████████████████████████████████████████████████████████████████████████████| 2740/2740 [00:05<00:00, 507.53it/s]\n",
      "100%|████████████████████████████████████████████████████████████████████████████████████████████████████████████████████████████████████████████| 1490/1490 [00:07<00:00, 203.35it/s]"
     ]
    },
    {
     "name": "stdout",
     "output_type": "stream",
     "text": [
      "(13580, 26) (6691, 26)\n",
      "CPU times: user 40.2 s, sys: 177 ms, total: 40.4 s\n",
      "Wall time: 39.9 s\n"
     ]
    },
    {
     "name": "stderr",
     "output_type": "stream",
     "text": [
      "\n"
     ]
    }
   ],
   "source": [
    "%%time\n",
    "from preprocessing import preprocessing\n",
    "\n",
    "train = pd.read_csv(\"data/train_dataset_train.csv\")\n",
    "test = pd.read_csv(\"data/test_dataset_test.csv\")\n",
    "print(train.shape, test.shape)\n",
    "train_id = train[\"ID\"]\n",
    "test_id = test[\"ID\"]\n",
    "\n",
    "full_data = pd.concat([train.copy(), test.copy()]).reset_index(drop=True)\n",
    "full_data = preprocessing(full_data.copy())\n",
    "train, test = full_data[full_data[\"ID\"].isin(train_id)], full_data[full_data[\"ID\"].isin(test_id)]\n",
    "\n",
    "print(train.shape, test.shape)"
   ]
  },
  {
   "cell_type": "code",
   "execution_count": 4,
   "id": "ff464ff0",
   "metadata": {},
   "outputs": [],
   "source": [
    "for col_name, col_dtype in train.dtypes.to_dict().items():\n",
    "    if col_dtype == \"object\":\n",
    "        train[col_name] = train[col_name].astype(\"category\")\n",
    "        test[col_name] = test[col_name].astype(\"category\")"
   ]
  },
  {
   "cell_type": "code",
   "execution_count": 5,
   "id": "204b2ef1",
   "metadata": {},
   "outputs": [
    {
     "name": "stdout",
     "output_type": "stream",
     "text": [
      "[7.37242128 0.95944609 0.54881992]\n"
     ]
    }
   ],
   "source": [
    "# sample weights\n",
    "classes = np.array([-1.,  3.,  4.])\n",
    "cw = class_weight.compute_class_weight(\"balanced\", classes=classes, y=train[\"Статус\"])\n",
    "print(cw)\n",
    "# {'c1': 11.806451416671381, 'c2': 10.196222523950034, 'c3': 2.4239850749887486}\n",
    "train[\"sample_weight\"] = train[\"Статус\"].map(dict(zip(classes, cw))).values"
   ]
  },
  {
   "cell_type": "code",
   "execution_count": 6,
   "id": "fcad8f3e",
   "metadata": {
    "scrolled": false
   },
   "outputs": [
    {
     "data": {
      "text/html": [
       "<div>\n",
       "<style scoped>\n",
       "    .dataframe tbody tr th:only-of-type {\n",
       "        vertical-align: middle;\n",
       "    }\n",
       "\n",
       "    .dataframe tbody tr th {\n",
       "        vertical-align: top;\n",
       "    }\n",
       "\n",
       "    .dataframe thead th {\n",
       "        text-align: right;\n",
       "    }\n",
       "</style>\n",
       "<table border=\"1\" class=\"dataframe\">\n",
       "  <thead>\n",
       "    <tr style=\"text-align: right;\">\n",
       "      <th></th>\n",
       "      <th>dtypes</th>\n",
       "      <th>TrainUnique</th>\n",
       "      <th>TrainNans</th>\n",
       "      <th>TestUnique</th>\n",
       "      <th>TestNans</th>\n",
       "    </tr>\n",
       "  </thead>\n",
       "  <tbody>\n",
       "    <tr>\n",
       "      <th>ID</th>\n",
       "      <td>int64</td>\n",
       "      <td>13580</td>\n",
       "      <td>0</td>\n",
       "      <td>6691.0</td>\n",
       "      <td>0.0</td>\n",
       "    </tr>\n",
       "    <tr>\n",
       "      <th>Код_группы</th>\n",
       "      <td>int64</td>\n",
       "      <td>3651</td>\n",
       "      <td>0</td>\n",
       "      <td>2677.0</td>\n",
       "      <td>0.0</td>\n",
       "    </tr>\n",
       "    <tr>\n",
       "      <th>Год_Поступления</th>\n",
       "      <td>int64</td>\n",
       "      <td>17</td>\n",
       "      <td>0</td>\n",
       "      <td>14.0</td>\n",
       "      <td>0.0</td>\n",
       "    </tr>\n",
       "    <tr>\n",
       "      <th>Пол</th>\n",
       "      <td>category</td>\n",
       "      <td>2</td>\n",
       "      <td>7</td>\n",
       "      <td>2.0</td>\n",
       "      <td>3.0</td>\n",
       "    </tr>\n",
       "    <tr>\n",
       "      <th>Основания</th>\n",
       "      <td>category</td>\n",
       "      <td>5</td>\n",
       "      <td>0</td>\n",
       "      <td>5.0</td>\n",
       "      <td>0.0</td>\n",
       "    </tr>\n",
       "    <tr>\n",
       "      <th>Изучаемый_Язык</th>\n",
       "      <td>category</td>\n",
       "      <td>4</td>\n",
       "      <td>825</td>\n",
       "      <td>5.0</td>\n",
       "      <td>396.0</td>\n",
       "    </tr>\n",
       "    <tr>\n",
       "      <th>Дата_Рождения</th>\n",
       "      <td>int64</td>\n",
       "      <td>52</td>\n",
       "      <td>0</td>\n",
       "      <td>52.0</td>\n",
       "      <td>0.0</td>\n",
       "    </tr>\n",
       "    <tr>\n",
       "      <th>Уч_Заведение</th>\n",
       "      <td>category</td>\n",
       "      <td>436</td>\n",
       "      <td>3639</td>\n",
       "      <td>423.0</td>\n",
       "      <td>1763.0</td>\n",
       "    </tr>\n",
       "    <tr>\n",
       "      <th>Где_Находится_УЗ</th>\n",
       "      <td>category</td>\n",
       "      <td>879</td>\n",
       "      <td>1293</td>\n",
       "      <td>595.0</td>\n",
       "      <td>606.0</td>\n",
       "    </tr>\n",
       "    <tr>\n",
       "      <th>Год_Окончания_УЗ</th>\n",
       "      <td>float64</td>\n",
       "      <td>42</td>\n",
       "      <td>1298</td>\n",
       "      <td>42.0</td>\n",
       "      <td>617.0</td>\n",
       "    </tr>\n",
       "    <tr>\n",
       "      <th>Пособие</th>\n",
       "      <td>float64</td>\n",
       "      <td>1</td>\n",
       "      <td>1007</td>\n",
       "      <td>1.0</td>\n",
       "      <td>484.0</td>\n",
       "    </tr>\n",
       "    <tr>\n",
       "      <th>Страна_ПП</th>\n",
       "      <td>category</td>\n",
       "      <td>12</td>\n",
       "      <td>212</td>\n",
       "      <td>9.0</td>\n",
       "      <td>83.0</td>\n",
       "    </tr>\n",
       "    <tr>\n",
       "      <th>Регион_ПП</th>\n",
       "      <td>category</td>\n",
       "      <td>93</td>\n",
       "      <td>617</td>\n",
       "      <td>67.0</td>\n",
       "      <td>290.0</td>\n",
       "    </tr>\n",
       "    <tr>\n",
       "      <th>Город_ПП</th>\n",
       "      <td>category</td>\n",
       "      <td>1196</td>\n",
       "      <td>485</td>\n",
       "      <td>775.0</td>\n",
       "      <td>239.0</td>\n",
       "    </tr>\n",
       "    <tr>\n",
       "      <th>Общежитие</th>\n",
       "      <td>float64</td>\n",
       "      <td>2</td>\n",
       "      <td>86</td>\n",
       "      <td>2.0</td>\n",
       "      <td>35.0</td>\n",
       "    </tr>\n",
       "    <tr>\n",
       "      <th>Наличие_Матери</th>\n",
       "      <td>int64</td>\n",
       "      <td>2</td>\n",
       "      <td>0</td>\n",
       "      <td>2.0</td>\n",
       "      <td>0.0</td>\n",
       "    </tr>\n",
       "    <tr>\n",
       "      <th>Наличие_Отца</th>\n",
       "      <td>int64</td>\n",
       "      <td>2</td>\n",
       "      <td>0</td>\n",
       "      <td>2.0</td>\n",
       "      <td>0.0</td>\n",
       "    </tr>\n",
       "    <tr>\n",
       "      <th>Страна_Родители</th>\n",
       "      <td>category</td>\n",
       "      <td>13</td>\n",
       "      <td>212</td>\n",
       "      <td>10.0</td>\n",
       "      <td>83.0</td>\n",
       "    </tr>\n",
       "    <tr>\n",
       "      <th>Опекунство</th>\n",
       "      <td>int64</td>\n",
       "      <td>2</td>\n",
       "      <td>0</td>\n",
       "      <td>2.0</td>\n",
       "      <td>0.0</td>\n",
       "    </tr>\n",
       "    <tr>\n",
       "      <th>Село</th>\n",
       "      <td>float64</td>\n",
       "      <td>2</td>\n",
       "      <td>86</td>\n",
       "      <td>2.0</td>\n",
       "      <td>37.0</td>\n",
       "    </tr>\n",
       "    <tr>\n",
       "      <th>Иностранец</th>\n",
       "      <td>float64</td>\n",
       "      <td>2</td>\n",
       "      <td>310</td>\n",
       "      <td>2.0</td>\n",
       "      <td>130.0</td>\n",
       "    </tr>\n",
       "    <tr>\n",
       "      <th>КодФакультета</th>\n",
       "      <td>category</td>\n",
       "      <td>20</td>\n",
       "      <td>0</td>\n",
       "      <td>20.0</td>\n",
       "      <td>0.0</td>\n",
       "    </tr>\n",
       "    <tr>\n",
       "      <th>СрБаллАттестата</th>\n",
       "      <td>float64</td>\n",
       "      <td>462</td>\n",
       "      <td>0</td>\n",
       "      <td>343.0</td>\n",
       "      <td>0.0</td>\n",
       "    </tr>\n",
       "    <tr>\n",
       "      <th>Статус</th>\n",
       "      <td>float64</td>\n",
       "      <td>3</td>\n",
       "      <td>0</td>\n",
       "      <td>0.0</td>\n",
       "      <td>6691.0</td>\n",
       "    </tr>\n",
       "    <tr>\n",
       "      <th>Возраст_Зачисления</th>\n",
       "      <td>int64</td>\n",
       "      <td>50</td>\n",
       "      <td>0</td>\n",
       "      <td>48.0</td>\n",
       "      <td>0.0</td>\n",
       "    </tr>\n",
       "    <tr>\n",
       "      <th>Возраст_Окончания_УЗ</th>\n",
       "      <td>float64</td>\n",
       "      <td>36</td>\n",
       "      <td>1374</td>\n",
       "      <td>30.0</td>\n",
       "      <td>653.0</td>\n",
       "    </tr>\n",
       "    <tr>\n",
       "      <th>sample_weight</th>\n",
       "      <td>float64</td>\n",
       "      <td>3</td>\n",
       "      <td>0</td>\n",
       "      <td>NaN</td>\n",
       "      <td>NaN</td>\n",
       "    </tr>\n",
       "  </tbody>\n",
       "</table>\n",
       "</div>"
      ],
      "text/plain": [
       "                        dtypes  TrainUnique  TrainNans  TestUnique  TestNans\n",
       "ID                       int64        13580          0      6691.0       0.0\n",
       "Код_группы               int64         3651          0      2677.0       0.0\n",
       "Год_Поступления          int64           17          0        14.0       0.0\n",
       "Пол                   category            2          7         2.0       3.0\n",
       "Основания             category            5          0         5.0       0.0\n",
       "Изучаемый_Язык        category            4        825         5.0     396.0\n",
       "Дата_Рождения            int64           52          0        52.0       0.0\n",
       "Уч_Заведение          category          436       3639       423.0    1763.0\n",
       "Где_Находится_УЗ      category          879       1293       595.0     606.0\n",
       "Год_Окончания_УЗ       float64           42       1298        42.0     617.0\n",
       "Пособие                float64            1       1007         1.0     484.0\n",
       "Страна_ПП             category           12        212         9.0      83.0\n",
       "Регион_ПП             category           93        617        67.0     290.0\n",
       "Город_ПП              category         1196        485       775.0     239.0\n",
       "Общежитие              float64            2         86         2.0      35.0\n",
       "Наличие_Матери           int64            2          0         2.0       0.0\n",
       "Наличие_Отца             int64            2          0         2.0       0.0\n",
       "Страна_Родители       category           13        212        10.0      83.0\n",
       "Опекунство               int64            2          0         2.0       0.0\n",
       "Село                   float64            2         86         2.0      37.0\n",
       "Иностранец             float64            2        310         2.0     130.0\n",
       "КодФакультета         category           20          0        20.0       0.0\n",
       "СрБаллАттестата        float64          462          0       343.0       0.0\n",
       "Статус                 float64            3          0         0.0    6691.0\n",
       "Возраст_Зачисления       int64           50          0        48.0       0.0\n",
       "Возраст_Окончания_УЗ   float64           36       1374        30.0     653.0\n",
       "sample_weight          float64            3          0         NaN       NaN"
      ]
     },
     "execution_count": 6,
     "metadata": {},
     "output_type": "execute_result"
    }
   ],
   "source": [
    "inf = pd.concat([train.dtypes, train.nunique(), train.isna().sum(), test.nunique(), test.isna().sum()], axis=1)\n",
    "inf.columns = [\"dtypes\", \"TrainUnique\", \"TrainNans\", \"TestUnique\", \"TestNans\"]\n",
    "inf"
   ]
  },
  {
   "cell_type": "markdown",
   "id": "3a65e4a4",
   "metadata": {},
   "source": [
    "## Split"
   ]
  },
  {
   "cell_type": "code",
   "execution_count": 7,
   "id": "7363d0f0",
   "metadata": {},
   "outputs": [
    {
     "name": "stdout",
     "output_type": "stream",
     "text": [
      "(10185, 27) (3395, 27)\n"
     ]
    }
   ],
   "source": [
    "# split\n",
    "df_train, df_test = train_test_split(train, random_state=42, stratify=train[\"Статус\"])\n",
    "\n",
    "print(df_train.shape, df_test.shape)"
   ]
  },
  {
   "cell_type": "code",
   "execution_count": 8,
   "id": "fceabcdf",
   "metadata": {
    "scrolled": true
   },
   "outputs": [
    {
     "name": "stdout",
     "output_type": "stream",
     "text": [
      "F1: 0.7773026454523474\n",
      "CPU times: user 5.75 s, sys: 192 ms, total: 5.94 s\n",
      "Wall time: 37.8 s\n"
     ]
    }
   ],
   "source": [
    "%%time\n",
    "# train model\n",
    "predictor = TabularPredictor(label='Статус', problem_type=\"multiclass\",\n",
    "                             eval_metric=\"f1_macro\", verbosity=0,\n",
    "                            sample_weight=\"sample_weight\", weight_evaluation=False,)\n",
    "predictor.fit(train_data=df_train, time_limit=None, presets=\"best_quality\",\n",
    "              hyperparameter_tune_kwargs={'num_trials': 100}, )\n",
    "\n",
    "# metric\n",
    "pred = predictor.predict(df_test)\n",
    "f1 = f1_score(df_test[\"Статус\"], pred, average='macro', zero_division = 0)\n",
    "clear_output()\n",
    "print(f\"F1: {f1}\")"
   ]
  },
  {
   "cell_type": "code",
   "execution_count": 9,
   "id": "71bf1021",
   "metadata": {},
   "outputs": [
    {
     "data": {
      "text/plain": [
       "array([[0.964, 0.034, 0.002],\n",
       "       [0.152, 0.794, 0.054],\n",
       "       [0.104, 0.338, 0.558]])"
      ]
     },
     "execution_count": 9,
     "metadata": {},
     "output_type": "execute_result"
    }
   ],
   "source": [
    "confusion_matrix(df_test[\"Статус\"], pred, labels=[4, 3, -1], normalize=\"true\").round(3)"
   ]
  },
  {
   "cell_type": "markdown",
   "id": "3f7dc65a",
   "metadata": {},
   "source": [
    "## Full model"
   ]
  },
  {
   "cell_type": "code",
   "execution_count": 10,
   "id": "3539c7d3",
   "metadata": {},
   "outputs": [
    {
     "name": "stdout",
     "output_type": "stream",
     "text": [
      "CPU times: user 16.1 s, sys: 117 ms, total: 16.2 s\n",
      "Wall time: 32.4 s\n"
     ]
    }
   ],
   "source": [
    "%%time\n",
    "# train automl\n",
    "predictor = TabularPredictor(label='Статус', problem_type=\"multiclass\",\n",
    "                             eval_metric=\"f1_macro\", verbosity=0,\n",
    "                             sample_weight=\"sample_weight\", weight_evaluation=False,\n",
    "                            )\n",
    "predictor.fit(train_data=train, time_limit=None, presets='best_quality',\n",
    "              hyperparameter_tune_kwargs={'num_trials': 100},)\n",
    "preds = predictor.predict(test).astype(int).values\n",
    "clear_output()"
   ]
  },
  {
   "cell_type": "code",
   "execution_count": 11,
   "id": "365645a2",
   "metadata": {},
   "outputs": [
    {
     "name": "stdout",
     "output_type": "stream",
     "text": [
      "WeightedEnsemble_L3\n"
     ]
    },
    {
     "data": {
      "text/html": [
       "<div>\n",
       "<style scoped>\n",
       "    .dataframe tbody tr th:only-of-type {\n",
       "        vertical-align: middle;\n",
       "    }\n",
       "\n",
       "    .dataframe tbody tr th {\n",
       "        vertical-align: top;\n",
       "    }\n",
       "\n",
       "    .dataframe thead th {\n",
       "        text-align: right;\n",
       "    }\n",
       "</style>\n",
       "<table border=\"1\" class=\"dataframe\">\n",
       "  <thead>\n",
       "    <tr style=\"text-align: right;\">\n",
       "      <th></th>\n",
       "      <th>model</th>\n",
       "      <th>score_test</th>\n",
       "      <th>score_val</th>\n",
       "      <th>pred_time_test</th>\n",
       "      <th>pred_time_val</th>\n",
       "      <th>fit_time</th>\n",
       "      <th>pred_time_test_marginal</th>\n",
       "      <th>pred_time_val_marginal</th>\n",
       "      <th>fit_time_marginal</th>\n",
       "      <th>stack_level</th>\n",
       "      <th>can_infer</th>\n",
       "      <th>fit_order</th>\n",
       "    </tr>\n",
       "  </thead>\n",
       "  <tbody>\n",
       "    <tr>\n",
       "      <th>0</th>\n",
       "      <td>LightGBMLarge_BAG_L1</td>\n",
       "      <td>0.993823</td>\n",
       "      <td>0.788373</td>\n",
       "      <td>1.435565</td>\n",
       "      <td>1.146141</td>\n",
       "      <td>12.408465</td>\n",
       "      <td>1.435565</td>\n",
       "      <td>1.146141</td>\n",
       "      <td>12.408465</td>\n",
       "      <td>1</td>\n",
       "      <td>True</td>\n",
       "      <td>1</td>\n",
       "    </tr>\n",
       "    <tr>\n",
       "      <th>1</th>\n",
       "      <td>WeightedEnsemble_L2</td>\n",
       "      <td>0.993823</td>\n",
       "      <td>0.788373</td>\n",
       "      <td>1.437189</td>\n",
       "      <td>1.148874</td>\n",
       "      <td>12.412447</td>\n",
       "      <td>0.001625</td>\n",
       "      <td>0.002733</td>\n",
       "      <td>0.003982</td>\n",
       "      <td>2</td>\n",
       "      <td>True</td>\n",
       "      <td>2</td>\n",
       "    </tr>\n",
       "    <tr>\n",
       "      <th>2</th>\n",
       "      <td>LightGBMLarge_BAG_L2</td>\n",
       "      <td>0.923321</td>\n",
       "      <td>0.790703</td>\n",
       "      <td>2.205524</td>\n",
       "      <td>1.569319</td>\n",
       "      <td>26.029482</td>\n",
       "      <td>0.769960</td>\n",
       "      <td>0.423178</td>\n",
       "      <td>13.621017</td>\n",
       "      <td>2</td>\n",
       "      <td>True</td>\n",
       "      <td>3</td>\n",
       "    </tr>\n",
       "    <tr>\n",
       "      <th>3</th>\n",
       "      <td>WeightedEnsemble_L3</td>\n",
       "      <td>0.923321</td>\n",
       "      <td>0.790703</td>\n",
       "      <td>2.206711</td>\n",
       "      <td>1.571971</td>\n",
       "      <td>26.033446</td>\n",
       "      <td>0.001187</td>\n",
       "      <td>0.002652</td>\n",
       "      <td>0.003964</td>\n",
       "      <td>3</td>\n",
       "      <td>True</td>\n",
       "      <td>4</td>\n",
       "    </tr>\n",
       "  </tbody>\n",
       "</table>\n",
       "</div>"
      ],
      "text/plain": [
       "                  model  score_test  score_val  pred_time_test  pred_time_val  \\\n",
       "0  LightGBMLarge_BAG_L1    0.993823   0.788373        1.435565       1.146141   \n",
       "1   WeightedEnsemble_L2    0.993823   0.788373        1.437189       1.148874   \n",
       "2  LightGBMLarge_BAG_L2    0.923321   0.790703        2.205524       1.569319   \n",
       "3   WeightedEnsemble_L3    0.923321   0.790703        2.206711       1.571971   \n",
       "\n",
       "    fit_time  pred_time_test_marginal  pred_time_val_marginal  \\\n",
       "0  12.408465                 1.435565                1.146141   \n",
       "1  12.412447                 0.001625                0.002733   \n",
       "2  26.029482                 0.769960                0.423178   \n",
       "3  26.033446                 0.001187                0.002652   \n",
       "\n",
       "   fit_time_marginal  stack_level  can_infer  fit_order  \n",
       "0          12.408465            1       True          1  \n",
       "1           0.003982            2       True          2  \n",
       "2          13.621017            2       True          3  \n",
       "3           0.003964            3       True          4  "
      ]
     },
     "execution_count": 11,
     "metadata": {},
     "output_type": "execute_result"
    }
   ],
   "source": [
    "print(predictor.get_model_best())\n",
    "predictor.leaderboard(train, silent=True)"
   ]
  },
  {
   "cell_type": "code",
   "execution_count": 12,
   "id": "385af36b",
   "metadata": {},
   "outputs": [
    {
     "data": {
      "text/plain": [
       " 4.0    0.607364\n",
       " 3.0    0.347423\n",
       "-1.0    0.045214\n",
       "Name: Статус, dtype: float64"
      ]
     },
     "metadata": {},
     "output_type": "display_data"
    },
    {
     "data": {
      "text/plain": [
       " 4    0.638171\n",
       " 3    0.314452\n",
       "-1    0.047377\n",
       "Name: Статус, dtype: float64"
      ]
     },
     "metadata": {},
     "output_type": "display_data"
    }
   ],
   "source": [
    "submission[\"Статус\"] = preds\n",
    "submission.to_csv(\"submission.csv\", index=False)\n",
    "\n",
    "display(train[\"Статус\"].value_counts(normalize=True))\n",
    "display(submission[\"Статус\"].value_counts(normalize=True))"
   ]
  },
  {
   "cell_type": "code",
   "execution_count": 13,
   "id": "8eafe863",
   "metadata": {},
   "outputs": [
    {
     "name": "stdout",
     "output_type": "stream",
     "text": [
      "CPU times: user 17min 41s, sys: 977 ms, total: 17min 42s\n",
      "Wall time: 1min 31s\n"
     ]
    },
    {
     "data": {
      "text/html": [
       "<div>\n",
       "<style scoped>\n",
       "    .dataframe tbody tr th:only-of-type {\n",
       "        vertical-align: middle;\n",
       "    }\n",
       "\n",
       "    .dataframe tbody tr th {\n",
       "        vertical-align: top;\n",
       "    }\n",
       "\n",
       "    .dataframe thead th {\n",
       "        text-align: right;\n",
       "    }\n",
       "</style>\n",
       "<table border=\"1\" class=\"dataframe\">\n",
       "  <thead>\n",
       "    <tr style=\"text-align: right;\">\n",
       "      <th></th>\n",
       "      <th>importance</th>\n",
       "      <th>stddev</th>\n",
       "      <th>p_value</th>\n",
       "      <th>n</th>\n",
       "      <th>p99_high</th>\n",
       "      <th>p99_low</th>\n",
       "    </tr>\n",
       "  </thead>\n",
       "  <tbody>\n",
       "    <tr>\n",
       "      <th>Код_группы</th>\n",
       "      <td>0.4548</td>\n",
       "      <td>0.0146</td>\n",
       "      <td>0.0000</td>\n",
       "      <td>5</td>\n",
       "      <td>0.4848</td>\n",
       "      <td>0.4247</td>\n",
       "    </tr>\n",
       "    <tr>\n",
       "      <th>Основания</th>\n",
       "      <td>0.1433</td>\n",
       "      <td>0.0073</td>\n",
       "      <td>0.0000</td>\n",
       "      <td>5</td>\n",
       "      <td>0.1584</td>\n",
       "      <td>0.1283</td>\n",
       "    </tr>\n",
       "    <tr>\n",
       "      <th>ID</th>\n",
       "      <td>0.0911</td>\n",
       "      <td>0.0072</td>\n",
       "      <td>0.0000</td>\n",
       "      <td>5</td>\n",
       "      <td>0.1058</td>\n",
       "      <td>0.0763</td>\n",
       "    </tr>\n",
       "    <tr>\n",
       "      <th>Год_Поступления</th>\n",
       "      <td>0.0526</td>\n",
       "      <td>0.0028</td>\n",
       "      <td>0.0000</td>\n",
       "      <td>5</td>\n",
       "      <td>0.0584</td>\n",
       "      <td>0.0467</td>\n",
       "    </tr>\n",
       "    <tr>\n",
       "      <th>СрБаллАттестата</th>\n",
       "      <td>0.0477</td>\n",
       "      <td>0.0089</td>\n",
       "      <td>0.0001</td>\n",
       "      <td>5</td>\n",
       "      <td>0.0661</td>\n",
       "      <td>0.0293</td>\n",
       "    </tr>\n",
       "    <tr>\n",
       "      <th>КодФакультета</th>\n",
       "      <td>0.0444</td>\n",
       "      <td>0.0049</td>\n",
       "      <td>0.0000</td>\n",
       "      <td>5</td>\n",
       "      <td>0.0546</td>\n",
       "      <td>0.0342</td>\n",
       "    </tr>\n",
       "    <tr>\n",
       "      <th>Возраст_Окончания_УЗ</th>\n",
       "      <td>0.0372</td>\n",
       "      <td>0.0078</td>\n",
       "      <td>0.0002</td>\n",
       "      <td>5</td>\n",
       "      <td>0.0533</td>\n",
       "      <td>0.0211</td>\n",
       "    </tr>\n",
       "    <tr>\n",
       "      <th>Уч_Заведение</th>\n",
       "      <td>0.0261</td>\n",
       "      <td>0.0064</td>\n",
       "      <td>0.0004</td>\n",
       "      <td>5</td>\n",
       "      <td>0.0394</td>\n",
       "      <td>0.0129</td>\n",
       "    </tr>\n",
       "    <tr>\n",
       "      <th>Город_ПП</th>\n",
       "      <td>0.0132</td>\n",
       "      <td>0.0025</td>\n",
       "      <td>0.0001</td>\n",
       "      <td>5</td>\n",
       "      <td>0.0183</td>\n",
       "      <td>0.0080</td>\n",
       "    </tr>\n",
       "    <tr>\n",
       "      <th>Год_Окончания_УЗ</th>\n",
       "      <td>0.0121</td>\n",
       "      <td>0.0036</td>\n",
       "      <td>0.0008</td>\n",
       "      <td>5</td>\n",
       "      <td>0.0195</td>\n",
       "      <td>0.0048</td>\n",
       "    </tr>\n",
       "    <tr>\n",
       "      <th>Дата_Рождения</th>\n",
       "      <td>0.0109</td>\n",
       "      <td>0.0037</td>\n",
       "      <td>0.0013</td>\n",
       "      <td>5</td>\n",
       "      <td>0.0184</td>\n",
       "      <td>0.0034</td>\n",
       "    </tr>\n",
       "    <tr>\n",
       "      <th>Пол</th>\n",
       "      <td>0.0074</td>\n",
       "      <td>0.0022</td>\n",
       "      <td>0.0009</td>\n",
       "      <td>5</td>\n",
       "      <td>0.0120</td>\n",
       "      <td>0.0028</td>\n",
       "    </tr>\n",
       "    <tr>\n",
       "      <th>Возраст_Зачисления</th>\n",
       "      <td>0.0072</td>\n",
       "      <td>0.0024</td>\n",
       "      <td>0.0012</td>\n",
       "      <td>5</td>\n",
       "      <td>0.0121</td>\n",
       "      <td>0.0023</td>\n",
       "    </tr>\n",
       "    <tr>\n",
       "      <th>Пособие</th>\n",
       "      <td>0.0072</td>\n",
       "      <td>0.0021</td>\n",
       "      <td>0.0007</td>\n",
       "      <td>5</td>\n",
       "      <td>0.0114</td>\n",
       "      <td>0.0029</td>\n",
       "    </tr>\n",
       "    <tr>\n",
       "      <th>Где_Находится_УЗ</th>\n",
       "      <td>0.0018</td>\n",
       "      <td>0.0033</td>\n",
       "      <td>0.1424</td>\n",
       "      <td>5</td>\n",
       "      <td>0.0085</td>\n",
       "      <td>-0.0049</td>\n",
       "    </tr>\n",
       "    <tr>\n",
       "      <th>Изучаемый_Язык</th>\n",
       "      <td>0.0013</td>\n",
       "      <td>0.0016</td>\n",
       "      <td>0.0758</td>\n",
       "      <td>5</td>\n",
       "      <td>0.0046</td>\n",
       "      <td>-0.0020</td>\n",
       "    </tr>\n",
       "    <tr>\n",
       "      <th>Иностранец</th>\n",
       "      <td>0.0003</td>\n",
       "      <td>0.0007</td>\n",
       "      <td>0.1572</td>\n",
       "      <td>5</td>\n",
       "      <td>0.0017</td>\n",
       "      <td>-0.0010</td>\n",
       "    </tr>\n",
       "    <tr>\n",
       "      <th>Регион_ПП</th>\n",
       "      <td>0.0003</td>\n",
       "      <td>0.0003</td>\n",
       "      <td>0.0744</td>\n",
       "      <td>5</td>\n",
       "      <td>0.0009</td>\n",
       "      <td>-0.0004</td>\n",
       "    </tr>\n",
       "    <tr>\n",
       "      <th>Страна_Родители</th>\n",
       "      <td>0.0002</td>\n",
       "      <td>0.0001</td>\n",
       "      <td>0.0021</td>\n",
       "      <td>5</td>\n",
       "      <td>0.0003</td>\n",
       "      <td>0.0000</td>\n",
       "    </tr>\n",
       "    <tr>\n",
       "      <th>Общежитие</th>\n",
       "      <td>0.0002</td>\n",
       "      <td>0.0029</td>\n",
       "      <td>0.4554</td>\n",
       "      <td>5</td>\n",
       "      <td>0.0061</td>\n",
       "      <td>-0.0058</td>\n",
       "    </tr>\n",
       "    <tr>\n",
       "      <th>Наличие_Отца</th>\n",
       "      <td>0.0001</td>\n",
       "      <td>0.0006</td>\n",
       "      <td>0.3907</td>\n",
       "      <td>5</td>\n",
       "      <td>0.0014</td>\n",
       "      <td>-0.0012</td>\n",
       "    </tr>\n",
       "    <tr>\n",
       "      <th>Опекунство</th>\n",
       "      <td>0.0000</td>\n",
       "      <td>0.0000</td>\n",
       "      <td>0.5000</td>\n",
       "      <td>5</td>\n",
       "      <td>0.0000</td>\n",
       "      <td>0.0000</td>\n",
       "    </tr>\n",
       "    <tr>\n",
       "      <th>Наличие_Матери</th>\n",
       "      <td>-0.0000</td>\n",
       "      <td>0.0020</td>\n",
       "      <td>0.5022</td>\n",
       "      <td>5</td>\n",
       "      <td>0.0041</td>\n",
       "      <td>-0.0041</td>\n",
       "    </tr>\n",
       "    <tr>\n",
       "      <th>Страна_ПП</th>\n",
       "      <td>-0.0001</td>\n",
       "      <td>0.0004</td>\n",
       "      <td>0.6158</td>\n",
       "      <td>5</td>\n",
       "      <td>0.0007</td>\n",
       "      <td>-0.0009</td>\n",
       "    </tr>\n",
       "    <tr>\n",
       "      <th>Село</th>\n",
       "      <td>-0.0003</td>\n",
       "      <td>0.0022</td>\n",
       "      <td>0.6225</td>\n",
       "      <td>5</td>\n",
       "      <td>0.0041</td>\n",
       "      <td>-0.0048</td>\n",
       "    </tr>\n",
       "  </tbody>\n",
       "</table>\n",
       "</div>"
      ],
      "text/plain": [
       "                      importance  stddev  p_value  n  p99_high  p99_low\n",
       "Код_группы                0.4548  0.0146   0.0000  5    0.4848   0.4247\n",
       "Основания                 0.1433  0.0073   0.0000  5    0.1584   0.1283\n",
       "ID                        0.0911  0.0072   0.0000  5    0.1058   0.0763\n",
       "Год_Поступления           0.0526  0.0028   0.0000  5    0.0584   0.0467\n",
       "СрБаллАттестата           0.0477  0.0089   0.0001  5    0.0661   0.0293\n",
       "КодФакультета             0.0444  0.0049   0.0000  5    0.0546   0.0342\n",
       "Возраст_Окончания_УЗ      0.0372  0.0078   0.0002  5    0.0533   0.0211\n",
       "Уч_Заведение              0.0261  0.0064   0.0004  5    0.0394   0.0129\n",
       "Город_ПП                  0.0132  0.0025   0.0001  5    0.0183   0.0080\n",
       "Год_Окончания_УЗ          0.0121  0.0036   0.0008  5    0.0195   0.0048\n",
       "Дата_Рождения             0.0109  0.0037   0.0013  5    0.0184   0.0034\n",
       "Пол                       0.0074  0.0022   0.0009  5    0.0120   0.0028\n",
       "Возраст_Зачисления        0.0072  0.0024   0.0012  5    0.0121   0.0023\n",
       "Пособие                   0.0072  0.0021   0.0007  5    0.0114   0.0029\n",
       "Где_Находится_УЗ          0.0018  0.0033   0.1424  5    0.0085  -0.0049\n",
       "Изучаемый_Язык            0.0013  0.0016   0.0758  5    0.0046  -0.0020\n",
       "Иностранец                0.0003  0.0007   0.1572  5    0.0017  -0.0010\n",
       "Регион_ПП                 0.0003  0.0003   0.0744  5    0.0009  -0.0004\n",
       "Страна_Родители           0.0002  0.0001   0.0021  5    0.0003   0.0000\n",
       "Общежитие                 0.0002  0.0029   0.4554  5    0.0061  -0.0058\n",
       "Наличие_Отца              0.0001  0.0006   0.3907  5    0.0014  -0.0012\n",
       "Опекунство                0.0000  0.0000   0.5000  5    0.0000   0.0000\n",
       "Наличие_Матери           -0.0000  0.0020   0.5022  5    0.0041  -0.0041\n",
       "Страна_ПП                -0.0001  0.0004   0.6158  5    0.0007  -0.0009\n",
       "Село                     -0.0003  0.0022   0.6225  5    0.0041  -0.0048"
      ]
     },
     "execution_count": 13,
     "metadata": {},
     "output_type": "execute_result"
    }
   ],
   "source": [
    "%%time\n",
    "predictor.feature_importance(train).round(4)"
   ]
  },
  {
   "cell_type": "markdown",
   "id": "2590f689",
   "metadata": {},
   "source": [
    "## CrossVal"
   ]
  },
  {
   "cell_type": "markdown",
   "id": "5e81f8a7",
   "metadata": {},
   "source": [
    "## Multiclass"
   ]
  },
  {
   "cell_type": "code",
   "execution_count": 14,
   "id": "a8c13968",
   "metadata": {},
   "outputs": [
    {
     "name": "stdout",
     "output_type": "stream",
     "text": [
      "F1: 0.78, 0.783\n"
     ]
    },
    {
     "data": {
      "text/plain": [
       "array([[0.953, 0.044, 0.002],\n",
       "       [0.147, 0.783, 0.07 ],\n",
       "       [0.094, 0.277, 0.629]])"
      ]
     },
     "metadata": {},
     "output_type": "display_data"
    },
    {
     "name": "stdout",
     "output_type": "stream",
     "text": [
      "4: [0.7827883862263049, 0.7779487096572856, 0.7907165028680306, 0.7801762127769049]\n",
      "0.7829074528821315\n",
      "CPU times: user 3min 46s, sys: 1.42 s, total: 3min 48s\n",
      "Wall time: 3min 2s\n"
     ]
    }
   ],
   "source": [
    "%%time\n",
    "n_splits = 4\n",
    "\n",
    "preds = []\n",
    "preds_prob = {-1.0:[], 3.0:[], 4.0:[]}\n",
    "metrics = []\n",
    "\n",
    "\n",
    "# FULL DATA\n",
    "predictor = TabularPredictor(label='Статус', problem_type=\"multiclass\",\n",
    "                             eval_metric=\"f1_macro\", verbosity=0,\n",
    "                             sample_weight=\"sample_weight\", weight_evaluation=False,\n",
    "                            )\n",
    "predictor.fit(train_data=train, time_limit=None, presets='best_quality',\n",
    "              hyperparameter_tune_kwargs={'num_trials': 100},)\n",
    "pred = predictor.predict(test).astype(int).values\n",
    "preds.append(pred)\n",
    "\n",
    "pred = predictor.predict_proba(test)\n",
    "preds_prob[-1.0].append(pred.values[:, 0])\n",
    "preds_prob[3.0].append(pred.values[:, 1])\n",
    "preds_prob[4.0].append(pred.values[:, 2])\n",
    "\n",
    "\n",
    "# SPLITS\n",
    "cv = KFold(shuffle=True, random_state=42, n_splits=n_splits)\n",
    "\n",
    "for train_idx, test_idx in tqdm(cv.split(train.copy(), groups=train[\"Статус\"]), total=n_splits):\n",
    "    train_batch, test_batch = train.iloc[train_idx].copy(), train.iloc[test_idx].copy()  \n",
    "\n",
    "    # train automl\n",
    "    predictor = TabularPredictor(label='Статус', problem_type=\"multiclass\",\n",
    "                                 eval_metric=\"f1_macro\", verbosity=0,\n",
    "                                 sample_weight=\"sample_weight\", weight_evaluation=False,\n",
    "                                )\n",
    "    predictor.fit(train_data=train_batch, time_limit=None, presets='best_quality',\n",
    "                  hyperparameter_tune_kwargs={'num_trials': 100},)\n",
    "\n",
    "    # metrics\n",
    "    f1 = f1_score(test_batch[\"Статус\"], predictor.predict(test_batch), average='macro', zero_division = 0)\n",
    "    f12 = predictor.evaluate(test_batch)[\"f1_macro\"]\n",
    "\n",
    "    # preds\n",
    "    pred = predictor.predict_proba(test)\n",
    "    preds_prob[-1.0].append(pred.values[:, 0])\n",
    "    preds_prob[3.0].append(pred.values[:, 1])\n",
    "    preds_prob[4.0].append(pred.values[:, 2])\n",
    "\n",
    "    preds.append(predictor.predict(test).astype(int).values)\n",
    "    metrics.append(f1)\n",
    "\n",
    "    clear_output()\n",
    "    print(f\"F1: {round(f1, 3)}, {round(np.mean(metrics), 3)}\")\n",
    "    display(confusion_matrix(test_batch[\"Статус\"], predictor.predict(test_batch), \n",
    "                             normalize=\"true\", labels=[4, 3, -1]).round(3))\n",
    "    print(f\"{len(metrics)}: {metrics}\")\n",
    "        \n",
    "    \n",
    "    \n",
    "#     break\n",
    "    \n",
    "print(np.mean(metrics))"
   ]
  },
  {
   "cell_type": "code",
   "execution_count": 15,
   "id": "f367b893",
   "metadata": {},
   "outputs": [
    {
     "data": {
      "text/plain": [
       " 4.0    0.607364\n",
       " 3.0    0.347423\n",
       "-1.0    0.045214\n",
       "Name: Статус, dtype: float64"
      ]
     },
     "metadata": {},
     "output_type": "display_data"
    },
    {
     "data": {
      "text/plain": [
       " 4    0.638320\n",
       " 3    0.316545\n",
       "-1    0.045135\n",
       "Name: Статус, dtype: float64"
      ]
     },
     "metadata": {},
     "output_type": "display_data"
    }
   ],
   "source": [
    "res = stats.mode(np.stack(preds, axis=0))[0][0]\n",
    "submission[\"Статус\"] = res\n",
    "submission.to_csv(\"submission.csv\", index=False)\n",
    "\n",
    "display(train[\"Статус\"].value_counts(normalize=True))\n",
    "display(submission[\"Статус\"].value_counts(normalize=True))"
   ]
  },
  {
   "cell_type": "code",
   "execution_count": 16,
   "id": "f3716604",
   "metadata": {
    "scrolled": true
   },
   "outputs": [
    {
     "name": "stdout",
     "output_type": "stream",
     "text": [
      "32 86\n",
      "-1: 10, 3: 15, 4: 7\n"
     ]
    },
    {
     "data": {
      "text/plain": [
       " 4.0    0.607364\n",
       " 3.0    0.347423\n",
       "-1.0    0.045214\n",
       "Name: Статус, dtype: float64"
      ]
     },
     "metadata": {},
     "output_type": "display_data"
    },
    {
     "data": {
      "text/plain": [
       " 4    0.638470\n",
       " 3    0.314602\n",
       "-1    0.046929\n",
       "Name: Статус, dtype: float64"
      ]
     },
     "metadata": {},
     "output_type": "display_data"
    }
   ],
   "source": [
    "a = np.stack(preds, axis=0)\n",
    "changed, not_changed = [], []\n",
    "final_preds = []\n",
    "changes = {-1:[], 3:[], 4:[]}\n",
    "\n",
    "for idx, p in enumerate(a.T):\n",
    "    full_pred = p[0]\n",
    "    ensemble_pred = stats.mode(p)[0][0]\n",
    "    if full_pred != ensemble_pred:\n",
    "        ens_conf = stats.mode(p)[1][0]\n",
    "        if ens_conf >= 4:\n",
    "            p_idx = ensemble_pred\n",
    "            changed.append(idx)\n",
    "            changes[full_pred].append(p_idx)\n",
    "        else:\n",
    "            p_idx = full_pred\n",
    "            not_changed.append(idx)\n",
    "    else:\n",
    "        p_idx = p[0]\n",
    "    \n",
    "    final_preds.append(p_idx)\n",
    "    \n",
    "print(len(changed), len(not_changed))\n",
    "print(f\"-1: {len(changes[-1])}, 3: {len(changes[3])}, 4: {len(changes[4])}\")\n",
    "\n",
    "\n",
    "submission[\"Статус\"] = final_preds\n",
    "submission.to_csv(\"submission.csv\", index=False)\n",
    "\n",
    "display(train[\"Статус\"].value_counts(normalize=True))\n",
    "display(submission[\"Статус\"].value_counts(normalize=True))"
   ]
  },
  {
   "cell_type": "code",
   "execution_count": null,
   "id": "7dd551da",
   "metadata": {},
   "outputs": [],
   "source": []
  },
  {
   "cell_type": "code",
   "execution_count": null,
   "id": "22eb20e5",
   "metadata": {},
   "outputs": [],
   "source": []
  },
  {
   "cell_type": "code",
   "execution_count": null,
   "id": "decfff4c",
   "metadata": {},
   "outputs": [],
   "source": []
  }
 ],
 "metadata": {
  "kernelspec": {
   "display_name": "Python 3 (ipykernel)",
   "language": "python",
   "name": "python3"
  },
  "language_info": {
   "codemirror_mode": {
    "name": "ipython",
    "version": 3
   },
   "file_extension": ".py",
   "mimetype": "text/x-python",
   "name": "python",
   "nbconvert_exporter": "python",
   "pygments_lexer": "ipython3",
   "version": "3.8.10"
  },
  "vscode": {
   "interpreter": {
    "hash": "57f0f7a30f7403199ddaef4997216d3ae23a58ea15692d4fde1ae5f206ccf31e"
   }
  }
 },
 "nbformat": 4,
 "nbformat_minor": 5
}
